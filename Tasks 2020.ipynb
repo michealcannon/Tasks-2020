{
 "cells": [
  {
   "cell_type": "markdown",
   "metadata": {},
   "source": [
    "## Task 1"
   ]
  },
  {
   "cell_type": "markdown",
   "metadata": {},
   "source": [
    "### Write a Python function  that calculates and prints to the screen the square root of 2 to 100  decimal places"
   ]
  },
  {
   "cell_type": "markdown",
   "metadata": {},
   "source": [
    "First we plot the function $ y = \\sqrt{x}$"
   ]
  },
  {
   "cell_type": "code",
   "execution_count": 1,
   "metadata": {},
   "outputs": [
    {
     "data": {
      "text/plain": [
       "<function matplotlib.pyplot.show(*args, **kw)>"
      ]
     },
     "execution_count": 1,
     "metadata": {},
     "output_type": "execute_result"
    },
    {
     "data": {
      "image/png": "[encoded data removed]",
      "text/plain": [
       "<Figure size 432x288 with 1 Axes>"
      ]
     },
     "metadata": {
      "needs_background": "light"
     },
     "output_type": "display_data"
    }
   ],
   "source": [
    "# plotting\n",
    "import matplotlib.pyplot as plt\n",
    "\n",
    "# numerical arrays\n",
    "import numpy as np\n",
    "\n",
    "# 1000 evenly spaced values between 0 and 10\n",
    "x = np.linspace(0.0,10.0,1000)\n",
    "\n",
    "# find square root of values and plot\n",
    "y = np.sqrt(x)\n",
    "plt.plot(x,y)\n",
    "plt.show"
   ]
  },
  {
   "cell_type": "markdown",
   "metadata": {},
   "source": [
    "We can see from the graph that $\\sqrt2$ approximates to just under 1.5. This makes sense when we consider that $ (1.5)^2 = 2.25$ - slightly more than 2."
   ]
  },
  {
   "cell_type": "markdown",
   "metadata": {},
   "source": [
    "We can calculate the square root of 2 (or any number) by using Heron's method[1]. Also known as the Babylonian method, it approximates the square root, $n$ of a number $s$ using the following iterative equation[2]:\n",
    "$$ x_n+1 = \\frac{1}{2}(x_n + \\frac{s}{x_n}) $$\n",
    "\n",
    "When $ s = 2$ this simplifies to $ x_n+1 = \\frac{x_n}{2} + \\frac{1}{x_n}$\n",
    "### How it works\n",
    "In simple terms, if a factor, $x$,  of a particular number,$s$,  is less than the square root of $s$, then $\\frac{s}{x}$ will be greater than the square root. Therefore the average of these two points will be closer to the square root than the original number, $x$. We can get very close to the square root in some cases after only a few iterations of the algorithm. Here's what happens when $x_1$ is chosen as $1$:\n",
    "\n",
    "$$x_1 = 1$$  \n",
    "$$x_2 = \\frac{1}{2} + \\frac{1}{1} = \\frac{3}{2}$$  \n",
    "$$x_2 = \\frac{\\frac{3}{2}}{2} + \\frac{1}{\\frac{3}{2}} = \\frac{17}{12}$$  \n",
    "$$x_4 =\\frac{\\frac{17}{12}}{2} + \\frac{1}{\\frac{17}{12}} = 1.414215... (approx)$$\n",
    "\n",
    "This is already accurate to 4 decimal places.\n",
    "I've written code to implement this method as follows:"
   ]
  },
  {
   "cell_type": "code",
   "execution_count": 2,
   "metadata": {},
   "outputs": [],
   "source": [
    "def sqroot2(): \n",
    "    \"\"\"\n",
    "    function to calculate the square root of 2\n",
    "    \"\"\"\n",
    "\n",
    "    # initial guess for the square root x\n",
    "    x = 1   \n",
    "\n",
    "     #loop until x^2 is within 0.00001 of 2 \n",
    "    while  2 - (x * x) > 0.00001 or 2 - (x * x) < -0.00001:  \n",
    "\n",
    "        # calculate a better guess for the square root\n",
    "        x = (1/x) + (x/2)\n",
    "\n",
    "    return x"
   ]
  },
  {
   "cell_type": "code",
   "execution_count": 3,
   "metadata": {},
   "outputs": [
    {
     "data": {
      "text/plain": [
       "1.4142156862745097"
      ]
     },
     "execution_count": 3,
     "metadata": {},
     "output_type": "execute_result"
    }
   ],
   "source": [
    "sqroot2()"
   ]
  },
  {
   "cell_type": "markdown",
   "metadata": {},
   "source": [
    "Initially I thought that narrowing the parameters set within the while loop would allow me to get the desired accuracy, but it seems that floating point numbers in python will only allow for 16 digits of precision[3]. \n",
    "### A method that uses integers\n",
    "To overcome this limitation of floating point numbers, I started thinking about how I could implement a square root function using whole numbers that would be equivalent to finding $\\sqrt2$. Unlike Heron's method, the method I came up with builds $\\sqrt2$, digit by digit using square numbers. It works as follows:\n",
    "\n",
    "I find the largest number whose square is less than 2. This is clearly 1, and is the first digit of $\\sqrt2$. Next I find the largest two digit number starting with 1, whose square is less than 200. This is 14, so I now have the first two digits of $\\sqrt2$, namely 1 and 4. Next I find the largest 3 digit number starting with 14, whose square is less than 20000. This is 141, so now I have the first three digits - 1, 4 and 1. I continue in this vein until I have found the first 102 digits. I then insert the decimal point into the correct place and now I have 101 decimal places. I take note of the 101st place before truncating the number and rounding if necessary to finally display $\\sqrt2$ to 100 decimal places. Here is my code:\n",
    "\n",
    "\n"
   ]
  },
  {
   "cell_type": "code",
   "execution_count": 4,
   "metadata": {},
   "outputs": [],
   "source": [
    "def sqrt2(): \n",
    "    \"\"\"\n",
    "    function to calculate the square root of 2\n",
    "    \"\"\"\n",
    "    n = 0 # initial value for int that will hold digits of square root 2\n",
    "    \n",
    "    for e in range (203): # will loop through code enough times to provide first 102 digits of square root 2\n",
    "        \n",
    "        # checks each digit,i, to see if the square of (n+i) is the largest square less than 2 x 10^e\n",
    "        # if no value i is found, try again for next value of e\n",
    "        # if suitable value for i is found, it is added to n to be used in next iteration\n",
    "        # e.g. iteration 1: n=0;e=0;i=1\n",
    "        #      iteration 2: n=10;e=1;i=not found\n",
    "        #      iteration 3: n=10;e=2;i=4\n",
    "        #      iteration 4: n=140;e=3;i=not found\n",
    "        #      iteration 5: n=140;e=4;i=1\n",
    "        #      iteration 6: n=1410;e=5;i=not found\n",
    "        for i in range(10): \n",
    "            if ((((n + i)**2) < (2 * 10**e)) and (((n + i+1)**2)>(2 * 10**e))):\n",
    "                n = (n + i) * 10   \n",
    "                \n",
    "                \n",
    "    m = str(n)  # convert n into a string\n",
    "    p = m[:1] + \".\" + m[1:101] # insert decimal point and truncate to 100 decimal places\n",
    "    return(p) "
   ]
  },
  {
   "cell_type": "markdown",
   "metadata": {},
   "source": [
    "### Tests of the Function"
   ]
  },
  {
   "cell_type": "code",
   "execution_count": 5,
   "metadata": {},
   "outputs": [
    {
     "name": "stdout",
     "output_type": "stream",
     "text": [
      "1.4142135623730950488016887242096980785696718753769480731766797379907324784621070388503875343276415727\n"
     ]
    }
   ],
   "source": [
    "# print out my function\n",
    "print(sqrt2())"
   ]
  },
  {
   "cell_type": "code",
   "execution_count": 6,
   "metadata": {},
   "outputs": [
    {
     "data": {
      "text/plain": [
       "1.4142135623730951"
      ]
     },
     "execution_count": 6,
     "metadata": {},
     "output_type": "execute_result"
    }
   ],
   "source": [
    "# compare value of root 2 from math library\n",
    "import math\n",
    "math.sqrt(2)"
   ]
  },
  {
   "cell_type": "markdown",
   "metadata": {},
   "source": [
    "These look similar. I will now check if they agree to 100 decimal places. My code outputs $\\sqrt2$ as a string so i'll use the decimal library to find its value to 100 decimal places. I'll then convert to a string before comparing strings to check that they are identical. "
   ]
  },
  {
   "cell_type": "code",
   "execution_count": 7,
   "metadata": {},
   "outputs": [
    {
     "name": "stdout",
     "output_type": "stream",
     "text": [
      "True\n"
     ]
    }
   ],
   "source": [
    "# assign output from my function to variable a\n",
    "a = sqrt2()  \n",
    "\n",
    "# use decimal library to get root 2 to 100 decimal places.\n",
    "# adapted code from  https://stackoverflow.com/questions/4733173/how-can-i-show-an-irrational-number-to-100-decimal-places-in-python\n",
    "from decimal import *\n",
    "getcontext().prec = 101 # precision of 101 significant figures\n",
    "\n",
    "b = str(Decimal(2).sqrt()) # get square root of 2, convert to string and assign to variable b\n",
    "\n",
    "print(a == b)\n"
   ]
  },
  {
   "cell_type": "markdown",
   "metadata": {},
   "source": [
    "The two strings are identical so I can conclude that my code does indeed find $\\sqrt2$ to 100 decimal places \n",
    "\n",
    "### References  \n",
    "\n",
    "[1] Extras: Heron’s Method for Computing Square Roots https://medium.com/@joshuafitzgerald/extras-herons-method-for-computing-square-roots   \n",
    "[2] Methods of computing square roots https://en.wikipedia.org/wiki/Methods_of_computing_square_roots#Babylonian_method  \n",
    "[3] Floating point arithmetic https://en.wikipedia.org/wiki/Floating-point_arithmetic"
   ]
  },
  {
   "cell_type": "markdown",
   "metadata": {},
   "source": [
    "## Task 2"
   ]
  },
  {
   "cell_type": "markdown",
   "metadata": {},
   "source": [
    "### The Chi-squared test for independence"
   ]
  },
  {
   "cell_type": "markdown",
   "metadata": {},
   "source": [
    "I first verify the chi-squared value for the contingency table [1] given in the task. There are some variants [2] but I am using Pearson's chi-squared test of independence, which \"assesses whether observations consisting of measures on two variables, expressed in a contingency table, are independent of each other\" [3] I am using the chi2_contingency function from scipy.stats to compute the chi-squared statistic [4]. The parameter required is a 3x4 array containing the observed frequencies from the contingency table."
   ]
  },
  {
   "cell_type": "code",
   "execution_count": 8,
   "metadata": {},
   "outputs": [
    {
     "name": "stdout",
     "output_type": "stream",
     "text": [
      "(24.571202858582602, 0.0004098425861096692, 6, array([[ 80.53846154,  34.84615385,  34.61538462],\n",
      "       [ 80.53846154,  34.84615385,  34.61538462],\n",
      "       [107.38461538,  46.46153846,  46.15384615],\n",
      "       [ 80.53846154,  34.84615385,  34.61538462]]))\n"
     ]
    }
   ],
   "source": [
    "# perform the chi-squared test on the data given in task 2\n",
    "\n",
    "# import necessary modules\n",
    "from scipy.stats import chi2_contingency\n",
    "import numpy as np\n",
    "\n",
    "# array containg data from task\n",
    "obs = np.array([[90, 30, 30], [60, 50, 40], [104, 51, 45], [95, 20, 35]]) \n",
    "\n",
    "# perform chi-square test and print result\n",
    "p = chi2_contingency(obs)  \n",
    "print(p)"
   ]
  },
  {
   "cell_type": "markdown",
   "metadata": {},
   "source": [
    "### Analysis of values returned\n",
    "The first piece of data returned by the function is the test statistic. We can see that the value obtained of approximately 24.6 verifies that given in the task.   \n",
    "The second value returned is the p-value of the test, which is approximately 0.004. That means there is a probability of 0.004 that the test statistic would have been at least that calculated if the two sets of data were independent. This gives good grounds to reject the null hypothesis.  \n",
    "The third value returned is the degrees of freedom. We can think of this as a measure of how many values of the table we need to know before being able to complete the table, given that we know the total observations[5]. In the contingency table given, for example, if we know the amount of white collar and blue collar workers for columns A, B and C, we can work out the amount of no collar workers. We can then work out all of column D. The chi-squared value and the degrees of freedom both factor into the calculation of the p-value.   \n",
    "The fourth value returned is an array containing the expected frequencies of each value in the table, given what we know about the total populations, presuming that the two sets of data are independent. The difference between this and the observed value is important when calculating the chi-squared test value. The chi-squared value is essentially the ratio of the square of this difference to the expected value, summed over all of the cells of the table [3]."
   ]
  },
  {
   "cell_type": "markdown",
   "metadata": {},
   "source": [
    "[1] Contingency table https://en.wikipedia.org/wiki/Contingency_table#:~:text=In%20statistics%2C%20a%20contingency%20table,%2C%20engineering%2C%20and%20scientific%20research.  \n",
    "[2] Wikipedia:Chi-squared test https://en.wikipedia.org/wiki/Chi-squared_test  \n",
    "[3] Pearson's chi-squared test https://en.wikipedia.org/wiki/Pearson%27s_chi-squared_test  \n",
    "[4] SciPy documentation for chi2_contingency https://docs.scipy.org/doc/scipy/reference/generated/scipy.stats.chi2_contingency.html  \n",
    "[5] Tutorial: Pearson's Chi-square Test for Independence https://www.ling.upenn.edu/~clight/chisquared.htm#:~:text=The%20degrees%20of%20freedom%20for,%2D1\n"
   ]
  },
  {
   "cell_type": "markdown",
   "metadata": {},
   "source": [
    "## Task 3"
   ]
  },
  {
   "cell_type": "markdown",
   "metadata": {},
   "source": [
    "### Standard Deviation "
   ]
  },
  {
   "cell_type": "markdown",
   "metadata": {},
   "source": [
    "Task 3 asks about the standard deviation of an array of numbers with reference to the excel functions *STDEV.P* and *STDEV.S*.  \n",
    "\n",
    "The standard deviation is a measure of the variation within a data set - a low standard deviation corresponding to values that are relatively close to the mean. A population contains all of the elements from a set of data so we are usually interested in the standard deviation of a population, $\\sigma$, performed in excel by the function *STDEV.P* and calculated by\n",
    "$$\\sigma = \\sqrt{\\frac{\\Sigma(x_1 - \\mu)^2}{N}}$$\n",
    "where $\\mu$ is the population mean and $\\frac{\\Sigma(x_1 - \\mu)^2}{N}$ is the average of the squared differences from the mean (variance).  \n",
    "\n",
    "In practice, however, we are often working with a sample. This is a specific group within the population from which we wish to extrapolate to the population as a whole. It turns out that using the formula for population standard deviation on a sample will give a biased estimate - the variance will be smaller when calculated using the sum of squared distances to the sample mean. To reduce this bias, $N$ in the formula is replaced by $N-1$, known as Bessel's correction.We now have a less biased estimate of population standard deviation based on the sample data, $s$, given by the formula\n",
    "$$s = \\sqrt{\\frac{\\Sigma(x_1 - \\bar x)^2}{N-1}}$$\n",
    "where $\\bar x$ is the sample mean.  \n",
    "\n",
    "This is the calculation performed in excel by the function *STDEV.S*.  \n",
    "\n",
    "The following code uses numpy to perform a simulation demonstrating that the STDEV.S calculation is a better estimate for the standard deviation of a population when performed on a sample.\n",
    "\n"
   ]
  },
  {
   "cell_type": "code",
   "execution_count": 9,
   "metadata": {},
   "outputs": [
    {
     "data": {
      "image/png": "[encoded data removed]",
      "text/plain": [
       "<Figure size 432x288 with 1 Axes>"
      ]
     },
     "metadata": {
      "needs_background": "light"
     },
     "output_type": "display_data"
    }
   ],
   "source": [
    "import numpy as np\n",
    "import matplotlib.pyplot as plt\n",
    "\n",
    "\n",
    "# function that calculates standard deviation of population in array\n",
    "def st_dev_p(arr):\n",
    "    mu = np.mean(arr)  # assign mean of array to variable mu\n",
    "    \n",
    "    d = 0              # loop that calculates d, the sum of the squared differences from the mean\n",
    "    for n in arr:\n",
    "        d = d + ((n - mu)**2)\n",
    "        \n",
    "    v = d/len(arr)    # divide d by length of array to find the variance, and assign to variable v\n",
    "    sigma = np.sqrt(v) # find square root of variance which is the standard deviation of population\n",
    "    return sigma\n",
    "\n",
    "\n",
    "# function that calculates estimate of population standard deviation based on sample data\n",
    "def st_dev_s(arr):\n",
    "    \n",
    "    x_bar = np.mean(arr)   # assign mean of array to variable mu\n",
    "    \n",
    "    d = 0       # loop that calculates d, the sum of the squared differences from the mean\n",
    "    for n in arr:\n",
    "        d = d + ((n - x_bar)**2)\n",
    "        \n",
    "    v = d/(len(arr) - 1)       # divide d by length of array - 1 to find the variance, and assign to variable v\n",
    "    s = np.sqrt(v)      # find square root of variance which is estimate of standard deviation of population based on sample data\n",
    "    return s\n",
    "\n",
    "    \n",
    "arr = np.random.randint(0, 100, 500)  # simulate a population of 500 numbers between 1 and 100 with a uniform distribution\n",
    "x = [0,50000]                       # plot the population standard deviation on a straight line\n",
    "y = [st_dev_p(arr),st_dev_p(arr)]\n",
    "plt.plot(x, y)\n",
    "\n",
    "\n",
    "sample = []\n",
    "for x in range(1,50):\n",
    "    for i in range (10 * x):     # for n = 10, 20, 30 ......500\n",
    "        z = np.random.choice(arr, 50)     # sample 50 values from the population\n",
    "        sample.append(st_dev_s(z))        # find the estimated standard deviation of pop using st_dev_s\n",
    "    w = np.mean(sample)                   # find the mean of n such estimates and plot\n",
    "    plt.scatter ((1000*x), w, color = \"red\")\n",
    "\n",
    "sample = []            # repeat above using st_dev_p\n",
    "for x in range(1,50):\n",
    "    for i in range (10 * x):\n",
    "        z = np.random.choice(arr, 50)\n",
    "        sample.append(st_dev_p(z))\n",
    "    w = np.mean(sample)\n",
    "    plt.scatter ((1000*x), w, color = \"blue\")\n"
   ]
  },
  {
   "cell_type": "markdown",
   "metadata": {},
   "source": [
    "We can see from the graph that the mean of the estimated standard deviations provided by the st_dev_s function (red dots) give a much more accurate estimate of the population standard deviation (blue line) than the mean of the estimated standard deviations provided by the st_dev_p function (blue dots). We can conclude that that the st_dev_s calculation is a better estimate for the standard deviation of a population when performed on a sample."
   ]
  },
  {
   "cell_type": "markdown",
   "metadata": {},
   "source": [
    "### References:\n",
    "Wikipedia: Standard Deviation https://en.wikipedia.org/wiki/Standard_deviation  \n",
    "Standard Deviation and Variance https://www.mathsisfun.com/data/standard-deviation.html#WhySquare  \n",
    "Standard Deviation https://statistics.laerd.com/statistical-guides/measures-of-spread-standard-deviation.php  \n",
    "Wikipedia: Bessel's Correction https://en.wikipedia.org/wiki/Bessel%27s_correction  "
   ]
  },
  {
   "cell_type": "markdown",
   "metadata": {},
   "source": [
    "## Task 4"
   ]
  },
  {
   "cell_type": "markdown",
   "metadata": {},
   "source": [
    "###  Use scikit-learn to apply k-means clustering to Fisher’s Iris data set."
   ]
  },
  {
   "cell_type": "markdown",
   "metadata": {},
   "source": [
    "First I imported all of the relevant packages and read in the dataset. I plotted all of the iris features against each other in a scatter plot matrix. The plot of petal width against petal length, when colour coded by species, shows that a line can be drawn on the graph to separate all instances of setosa from the other two classes. Virginica and versicolor can almost, but not quite, be separated. I concluded that applying k-means clustering to these data could provide us with some accurate predictions for new data[1]. "
   ]
  },
  {
   "cell_type": "code",
   "execution_count": 6,
   "metadata": {},
   "outputs": [],
   "source": [
    "# Numerical arrays.\n",
    "import numpy as np\n",
    "import pandas as pd\n",
    "\n",
    "# Machine learning - KMeans.\n",
    "import sklearn.cluster as skcl\n",
    "\n",
    "# Plotting.\n",
    "import matplotlib.pyplot as plt\n",
    "import seaborn as sns"
   ]
  },
  {
   "cell_type": "code",
   "execution_count": 7,
   "metadata": {},
   "outputs": [
    {
     "data": {
      "text/plain": [
       "<matplotlib.legend.Legend at 0x2223c6ba2b0>"
      ]
     },
     "execution_count": 7,
     "metadata": {},
     "output_type": "execute_result"
    },
    {
     "data": {
      "image/png": "[encoded data removed]",
      "text/plain": [
       "<Figure size 432x288 with 16 Axes>"
      ]
     },
     "metadata": {
      "needs_background": "light"
     },
     "output_type": "display_data"
    },
    {
     "data": {
      "image/png": "[encoded data removed]",
      "text/plain": [
       "<Figure size 360x360 with 1 Axes>"
      ]
     },
     "metadata": {
      "needs_background": "light"
     },
     "output_type": "display_data"
    }
   ],
   "source": [
    "# read in data from csv file\n",
    "iris = pd.read_csv(\"iris_dataset.csv\")\n",
    "# plot scatter matrix\n",
    "pd.plotting.scatter_matrix(iris)\n",
    "# plot of petal length against width, colour coded by species\n",
    "sns.lmplot(x = \"petal_length\", y = \"petal_width\", data = iris, fit_reg = False, hue = \"species\",legend = False )\n",
    "plt.legend(loc = \"lower right\")"
   ]
  },
  {
   "cell_type": "markdown",
   "metadata": {},
   "source": [
    "I extracted the data for petal length and width from the dataset and performed a k-means fitting with 3 clusters. The k-means algorithm works by minimising the sum of the squared distances from the cluster points to the mean point of the cluster, and partitioning the data based on this. It applied the  labels 0, 1 or 2 to each of the 150 data points. I plotted these points and colour coded by label. We can see that the resulting plot of the predicted clusters looks very similar to that of the original data coded by species. This gives me confidence that the algorithm has been effective in clustering similar data together[2][3]."
   ]
  },
  {
   "cell_type": "code",
   "execution_count": 8,
   "metadata": {},
   "outputs": [
    {
     "data": {
      "text/plain": [
       "array([0, 0, 0, 0, 0, 0, 0, 0, 0, 0, 0, 0, 0, 0, 0, 0, 0, 0, 0, 0, 0, 0,\n",
       "       0, 0, 0, 0, 0, 0, 0, 0, 0, 0, 0, 0, 0, 0, 0, 0, 0, 0, 0, 0, 0, 0,\n",
       "       0, 0, 0, 0, 0, 0, 2, 2, 2, 2, 2, 2, 2, 2, 2, 2, 2, 2, 2, 2, 2, 2,\n",
       "       2, 2, 2, 2, 2, 2, 2, 2, 2, 2, 2, 1, 2, 2, 2, 2, 2, 1, 2, 2, 2, 2,\n",
       "       2, 2, 2, 2, 2, 2, 2, 2, 2, 2, 2, 2, 1, 1, 1, 1, 1, 1, 2, 1, 1, 1,\n",
       "       1, 1, 1, 1, 1, 1, 1, 1, 1, 2, 1, 1, 1, 1, 1, 1, 2, 1, 1, 1, 1, 1,\n",
       "       1, 1, 1, 1, 1, 1, 2, 1, 1, 1, 1, 1, 1, 1, 1, 1, 1, 1])"
      ]
     },
     "execution_count": 8,
     "metadata": {},
     "output_type": "execute_result"
    }
   ],
   "source": [
    "# extract petal length and width from dataset\n",
    "irisb = iris.to_numpy()\n",
    "X = irisb[:151, 2:4]\n",
    "# Perform kmeans fitting.\n",
    "kmeans = skcl.KMeans(n_clusters=3, random_state=0).fit(X)\n",
    "# output labels assigned by algorithm\n",
    "kmeans.labels_"
   ]
  },
  {
   "cell_type": "code",
   "execution_count": 9,
   "metadata": {},
   "outputs": [
    {
     "data": {
      "text/plain": [
       "[<matplotlib.lines.Line2D at 0x2223d7f75e0>]"
      ]
     },
     "execution_count": 9,
     "metadata": {},
     "output_type": "execute_result"
    },
    {
     "data": {
      "image/png": "[encoded data removed]",
      "text/plain": [
       "<Figure size 432x288 with 1 Axes>"
      ]
     },
     "metadata": {
      "needs_background": "light"
     },
     "output_type": "display_data"
    }
   ],
   "source": [
    "# plot data colour coded by label\n",
    "plt.plot(X[kmeans.labels_ == 0][:,0], X[kmeans.labels_ == 0][:,1], 'gx')\n",
    "plt.plot(X[kmeans.labels_ == 1][:,0], X[kmeans.labels_ == 1][:,1], 'rx')\n",
    "plt.plot(X[kmeans.labels_ == 2][:,0], X[kmeans.labels_ == 2][:,1], 'bx')"
   ]
  },
  {
   "cell_type": "markdown",
   "metadata": {},
   "source": [
    "Comparing plots has given an indication that the algorithm has, in the main, clustered instances of the same species. However, I wanted to use an objective metric to measure the accuracy of the algorithm. I chose to use the homogeneity score from sklearn.metrics, which measures the extent to which clusters contain only data points which are members of a single class. I also obtained the completeness score, which measures the extent to which members of a given class are elements of the same cluster. Both score between 0 and 1, 1 standing for perfectly homogenous/complete labelling. The scores obtained by these algorithms again show effectiveness of the algorithm in clustering instances of the same species [4][5][6]. "
   ]
  },
  {
   "cell_type": "code",
   "execution_count": 10,
   "metadata": {},
   "outputs": [
    {
     "data": {
      "text/plain": [
       "0.8639756867013153"
      ]
     },
     "metadata": {},
     "output_type": "display_data"
    },
    {
     "data": {
      "text/plain": [
       "0.8643954288752762"
      ]
     },
     "metadata": {},
     "output_type": "display_data"
    }
   ],
   "source": [
    "\n",
    "from sklearn.metrics.cluster import homogeneity_score,completeness_score\n",
    "true_labels = irisb[:151, 4]\n",
    "pred_labels = kmeans.labels_\n",
    "display(homogeneity_score(true_labels, pred_labels))\n",
    "display(completeness_score(true_labels, pred_labels))\n"
   ]
  },
  {
   "cell_type": "markdown",
   "metadata": {},
   "source": [
    "The following code establishes the mean point of each cluster. They are shown as black dots on the plot. "
   ]
  },
  {
   "cell_type": "code",
   "execution_count": 11,
   "metadata": {},
   "outputs": [
    {
     "data": {
      "text/plain": [
       "array([[1.464     , 0.244     ],\n",
       "       [5.59583333, 2.0375    ],\n",
       "       [4.26923077, 1.34230769]])"
      ]
     },
     "execution_count": 11,
     "metadata": {},
     "output_type": "execute_result"
    }
   ],
   "source": [
    "# The centres of clusters.\n",
    "mycent = kmeans.cluster_centers_\n",
    "mycent"
   ]
  },
  {
   "cell_type": "code",
   "execution_count": 16,
   "metadata": {},
   "outputs": [
    {
     "data": {
      "text/plain": [
       "[<matplotlib.lines.Line2D at 0x2223d21bf10>]"
      ]
     },
     "execution_count": 16,
     "metadata": {},
     "output_type": "execute_result"
    },
    {
     "data": {
      "image/png": "[encoded data removed]",
      "text/plain": [
       "<Figure size 432x288 with 1 Axes>"
      ]
     },
     "metadata": {
      "needs_background": "light"
     },
     "output_type": "display_data"
    }
   ],
   "source": [
    "plt.plot(X[kmeans.labels_ == 0][:,0], X[kmeans.labels_ == 0][:,1], 'gx')\n",
    "plt.plot(X[kmeans.labels_ == 1][:,0], X[kmeans.labels_ == 1][:,1], 'rx')\n",
    "plt.plot(X[kmeans.labels_ == 2][:,0], X[kmeans.labels_ == 2][:,1], 'bx')\n",
    "plt.plot(mycent[:,0], mycent[:,1], 'k.')"
   ]
  },
  {
   "cell_type": "markdown",
   "metadata": {},
   "source": [
    "Predictions of species of Iris, given petal length and width, can be made by assigning the new values to the cluster for which distance from the mean point is minimised. The following code predicts species of iris for flowers with petal length of 2cm and width of 1cm; length 6cm width 2cm; length 5cm width 1cm. It plots these new data points using colour coded dots. "
   ]
  },
  {
   "cell_type": "code",
   "execution_count": 17,
   "metadata": {},
   "outputs": [
    {
     "data": {
      "text/plain": [
       "array([0, 1, 2])"
      ]
     },
     "execution_count": 17,
     "metadata": {},
     "output_type": "execute_result"
    }
   ],
   "source": [
    "# Predict the cluster for three points.\n",
    "newvals = np.array([[2, 1], [6, 2], [5, 1]])\n",
    "predictions = kmeans.predict(newvals)\n",
    "predictions"
   ]
  },
  {
   "cell_type": "code",
   "execution_count": 18,
   "metadata": {},
   "outputs": [
    {
     "data": {
      "text/plain": [
       "[<matplotlib.lines.Line2D at 0x2223d82c790>]"
      ]
     },
     "execution_count": 18,
     "metadata": {},
     "output_type": "execute_result"
    },
    {
     "data": {
      "image/png": "[encoded data removed]",
      "text/plain": [
       "<Figure size 432x288 with 1 Axes>"
      ]
     },
     "metadata": {
      "needs_background": "light"
     },
     "output_type": "display_data"
    }
   ],
   "source": [
    "# Plot the data set.\n",
    "plt.plot(X[kmeans.labels_ == 0][:,0], X[kmeans.labels_ == 0][:,1], 'gx')\n",
    "plt.plot(X[kmeans.labels_ == 1][:,0], X[kmeans.labels_ == 1][:,1], 'rx')\n",
    "plt.plot(X[kmeans.labels_ == 2][:,0], X[kmeans.labels_ == 2][:,1], 'bx')\n",
    "plt.plot(newvals[predictions == 0][:,0], newvals[predictions == 0][:,1], 'go')\n",
    "plt.plot(newvals[predictions == 1][:,0], newvals[predictions == 1][:,1], 'ro')\n",
    "plt.plot(newvals[predictions == 2][:,0], newvals[predictions == 2][:,1], 'bo')"
   ]
  },
  {
   "cell_type": "markdown",
   "metadata": {},
   "source": [
    "### References:\n",
    "\n",
    "[1] The Python Graph Gallery  https://python-graph-gallery.com/43-use-categorical-variable-to-color-scatterplot-seaborn/  \n",
    "[2] Scikit Learn Documentation: K-Means https://scikit-learn.org/stable/modules/generated/sklearn.cluster.KMeans.html#sklearn.cluster.KMeans  \n",
    "[3] Medium: Predicting Iris Flower Species With K-Means Clustering In Python https://medium.com/@belen.sanchez27/predicting-iris-flower-species-with-k-means-clustering-in-python-f6e46806aaee  \n",
    "[4] Scikit Learn Documentation:Completeness Score https://scikit-learn.org/stable/modules/generated/sklearn.metrics.completeness_score.html#sklearn.metrics.completeness_score  \n",
    "[5] Scikit Learn Documentation:Homogeneity Score https://scikit-learn.org/stable/modules/generated/sklearn.metrics.homogeneity_score.html#sklearn.metrics.homogeneity_score  \n",
    "[6] Stack Overflow https://stackoverflow.com/questions/51320227/determining-accuracy-for-k-means-clustering  "
   ]
  },
  {
   "cell_type": "markdown",
   "metadata": {},
   "source": [
    "### End"
   ]
  }
 ],
 "metadata": {
  "kernelspec": {
   "display_name": "Python 3",
   "language": "python",
   "name": "python3"
  },
  "language_info": {
   "codemirror_mode": {
    "name": "ipython",
    "version": 3
   },
   "file_extension": ".py",
   "mimetype": "text/x-python",
   "name": "python",
   "nbconvert_exporter": "python",
   "pygments_lexer": "ipython3",
   "version": "3.8.3"
  }
 },
 "nbformat": 4,
 "nbformat_minor": 4
}
