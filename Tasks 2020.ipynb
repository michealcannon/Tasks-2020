{
 "cells": [
  {
   "cell_type": "markdown",
   "metadata": {},
   "source": [
    "These are my solutions for the \"Tasks\" assessment for Machine Learning and Statistics in 2020. The author is Micheál Cannon."
   ]
  },
  {
   "cell_type": "markdown",
   "metadata": {},
   "source": [
    "## Task 1"
   ]
  },
  {
   "cell_type": "markdown",
   "metadata": {},
   "source": [
    "### Write a Python function  that calculates and prints to the screen the square root of 2 to 100  decimal places"
   ]
  },
  {
   "cell_type": "markdown",
   "metadata": {},
   "source": [
    "First we plot the function $ y = \\sqrt{x}$"
   ]
  },
  {
   "cell_type": "code",
   "execution_count": 1,
   "metadata": {},
   "outputs": [
    {
     "data": {
      "text/plain": [
       "<function matplotlib.pyplot.show(*args, **kw)>"
      ]
     },
     "execution_count": 1,
     "metadata": {},
     "output_type": "execute_result"
    },
    {
     "data": {
      "image/png": "[encoded data removed]",
      "text/plain": [
       "<Figure size 432x288 with 1 Axes>"
      ]
     },
     "metadata": {
      "needs_background": "light"
     },
     "output_type": "display_data"
    }
   ],
   "source": [
    "import matplotlib.pyplot as plt\n",
    "import numpy as np\n",
    "x = np.linspace(0.0,10.0,1000)\n",
    "y = np.sqrt(x)\n",
    "plt.plot(x,y)\n",
    "plt.show"
   ]
  },
  {
   "cell_type": "markdown",
   "metadata": {},
   "source": [
    "We can see from the graph that $\\sqrt2$ approximates to just under 1.5. This makes sense when we consider that $ (1.5)^2 = 2.25$ - slightly more than 2."
   ]
  },
  {
   "cell_type": "markdown",
   "metadata": {},
   "source": [
    "We can calculate the square root of 2 (or any number) by using Heron's method[1]. Also known as the Babylonian method, it approximates the square root, $n$ of a number $s$ using the following iterative equation:[2]\n",
    "$$ x_n+1 = \\frac{1}{2}(x_n + \\frac{s}{x_n}) $$\n",
    "\n",
    "When $ s = 2$ this simplifies to $ x_n+1 = \\frac{x_n}{2} + \\frac{1}{x_n}$\n",
    "## How it works\n",
    "In simple terms, if a factor, $x$,  of a particular number,$s$,  is less than the square root of $s$, then $\\frac{s}{x}$ will be greater than the square root. Therefore the average of these two points will be closer to the square root than the original number, $x$. We can get very close to the square root in some cases after only a few iterations of the algorithm. Here's what happens when $x_1$ is chosen as $1$:\n",
    "\n",
    "$$x_1 = 1$$  \n",
    "$$x_2 = \\frac{1}{2} + \\frac{1}{1} = \\frac{3}{2}$$  \n",
    "$$x_2 = \\frac{\\frac{3}{2}}{2} + \\frac{1}{\\frac{3}{2}} = \\frac{17}{12}$$  \n",
    "$$x_4 =\\frac{\\frac{17}{12}}{2} + \\frac{1}{\\frac{17}{12}} = 1.414215... (approx)$$\n",
    "\n",
    "This is already accurate to 4 decimal places.\n",
    "I've written code to implement this method as follows:\n",
    "\n",
    "\n",
    "\n",
    "\n",
    "\n",
    "\n",
    "\n",
    "[1] Extras: Heron’s Method for Computing Square Roots https://medium.com/@joshuafitzgerald/extras-herons-method-for-computing-square-roots   \n",
    "[2] Methods of computing square roots https://en.wikipedia.org/wiki/Methods_of_computing_square_roots#Babylonian_method"
   ]
  },
  {
   "cell_type": "code",
   "execution_count": 1,
   "metadata": {},
   "outputs": [],
   "source": [
    "def sqr2(): \n",
    "    \"\"\"\n",
    "    function to calculate the square root of 2\n",
    "    \"\"\"\n",
    "\n",
    "    # initial guess for the square root x\n",
    "    x = 1   \n",
    "\n",
    "     #loop until x^2 is within 0.00001 of 2 \n",
    "    while  2 - (x * x) > 0.00001 or 2 - (x * x) < -0.00001:  \n",
    "\n",
    "        # calculate a better guess for the square root\n",
    "        x = (1/x) + (x/2)\n",
    "\n",
    "    print(x)"
   ]
  },
  {
   "cell_type": "code",
   "execution_count": 2,
   "metadata": {},
   "outputs": [
    {
     "name": "stdout",
     "output_type": "stream",
     "text": [
      "1.4142156862745097\n"
     ]
    }
   ],
   "source": [
    "sqr2()"
   ]
  },
  {
   "cell_type": "code",
   "execution_count": null,
   "metadata": {},
   "outputs": [],
   "source": []
  }
 ],
 "metadata": {
  "kernelspec": {
   "display_name": "Python 3",
   "language": "python",
   "name": "python3"
  },
  "language_info": {
   "codemirror_mode": {
    "name": "ipython",
    "version": 3
   },
   "file_extension": ".py",
   "mimetype": "text/x-python",
   "name": "python",
   "nbconvert_exporter": "python",
   "pygments_lexer": "ipython3",
   "version": "3.8.3"
  }
 },
 "nbformat": 4,
 "nbformat_minor": 4
}
